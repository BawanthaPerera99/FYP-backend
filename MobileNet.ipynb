{
 "cells": [
  {
   "cell_type": "code",
   "execution_count": 61,
   "metadata": {
    "collapsed": true
   },
   "outputs": [],
   "source": [
    "import keras.losses\n",
    "import numpy as np\n",
    "import matplotlib.pyplot as plt\n",
    "import os\n",
    "import math\n",
    "import shutil\n",
    "from PIL import Image\n",
    "import cv2"
   ]
  },
  {
   "cell_type": "code",
   "execution_count": 2,
   "metadata": {},
   "outputs": [
    {
     "data": {
      "text/plain": "['Moderately-differentiate',\n 'Normal',\n 'Poorly-differentiate',\n 'Well-differentiate']"
     },
     "execution_count": 2,
     "metadata": {},
     "output_type": "execute_result"
    }
   ],
   "source": [
    "ROOT_DIR = \"data\"\n",
    "os.listdir(ROOT_DIR)"
   ]
  },
  {
   "cell_type": "code",
   "execution_count": 3,
   "metadata": {},
   "outputs": [
    {
     "data": {
      "text/plain": "4"
     },
     "execution_count": 3,
     "metadata": {},
     "output_type": "execute_result"
    }
   ],
   "source": [
    "len(os.listdir(ROOT_DIR))"
   ]
  },
  {
   "cell_type": "code",
   "execution_count": 4,
   "metadata": {},
   "outputs": [
    {
     "data": {
      "text/plain": "dict_items([('Moderately-differentiate', 16), ('Normal', 16), ('Poorly-differentiate', 16), ('Well-differentiate', 17)])"
     },
     "execution_count": 4,
     "metadata": {},
     "output_type": "execute_result"
    }
   ],
   "source": [
    "# count the number of images in each class\n",
    "number_of_images = {}\n",
    "\n",
    "for image_class in os.listdir(ROOT_DIR):\n",
    "    number_of_images[image_class] = len(os.listdir(os.path.join(ROOT_DIR, image_class)))\n",
    "\n",
    "number_of_images.items()"
   ]
  },
  {
   "cell_type": "code",
   "execution_count": 9,
   "metadata": {},
   "outputs": [
    {
     "data": {
      "text/plain": "dict_items([('Moderately-differentiate', 1055), ('Normal', 1086), ('Poorly-differentiate', 1094), ('Well-differentiate', 998)])"
     },
     "execution_count": 9,
     "metadata": {},
     "output_type": "execute_result"
    }
   ],
   "source": [
    "# count the number of images in each class\n",
    "number_of_images = {}\n",
    "\n",
    "for image_class in os.listdir('train'):\n",
    "    number_of_images[image_class] = len(os.listdir(os.path.join('train', image_class)))\n",
    "\n",
    "number_of_images.items()"
   ]
  },
  {
   "cell_type": "markdown",
   "source": [
    "## Preparing the data"
   ],
   "metadata": {
    "collapsed": false
   }
  },
  {
   "cell_type": "code",
   "execution_count": 14,
   "outputs": [],
   "source": [
    "from keras_preprocessing.image import ImageDataGenerator\n",
    "from keras.applications.mobilenet import preprocess_input"
   ],
   "metadata": {
    "collapsed": false
   }
  },
  {
   "cell_type": "code",
   "execution_count": 15,
   "outputs": [
    {
     "name": "stdout",
     "output_type": "stream",
     "text": [
      "Found 4233 images belonging to 4 classes.\n"
     ]
    }
   ],
   "source": [
    "train_datagen = ImageDataGenerator(zoom_range=0.2, shear_range=0.2, preprocessing_function=preprocess_input, horizontal_flip=True,)\n",
    "train_images = train_datagen.flow_from_directory(directory='train', target_size=(224, 224),\n",
    "                                                 batch_size=32, class_mode='categorical')"
   ],
   "metadata": {
    "collapsed": false
   }
  },
  {
   "cell_type": "code",
   "execution_count": 16,
   "outputs": [
    {
     "name": "stdout",
     "output_type": "stream",
     "text": [
      "Found 124 images belonging to 4 classes.\n"
     ]
    }
   ],
   "source": [
    "validation_datagen = ImageDataGenerator(preprocessing_function=preprocess_input)\n",
    "validation_images = validation_datagen.flow_from_directory(directory='val', target_size=(224, 224),\n",
    "                                                           batch_size=32, class_mode='categorical')"
   ],
   "metadata": {
    "collapsed": false
   }
  },
  {
   "cell_type": "code",
   "execution_count": 17,
   "outputs": [
    {
     "name": "stdout",
     "output_type": "stream",
     "text": [
      "Found 124 images belonging to 4 classes.\n"
     ]
    }
   ],
   "source": [
    "test_datagen = ImageDataGenerator(preprocessing_function=preprocess_input)\n",
    "test_images = test_datagen.flow_from_directory(directory='test', target_size=(224, 224),\n",
    "                                               batch_size=32, class_mode='categorical')"
   ],
   "metadata": {
    "collapsed": false
   }
  },
  {
   "cell_type": "markdown",
   "metadata": {},
   "source": [
    "# Model Training"
   ]
  },
  {
   "cell_type": "code",
   "execution_count": 24,
   "metadata": {},
   "outputs": [],
   "source": [
    "from keras.layers import Flatten, Dense\n",
    "from keras.models import Model, load_model\n",
    "from keras.applications.mobilenet import MobileNet\n",
    "from keras.optimizers import Adam"
   ]
  },
  {
   "cell_type": "code",
   "execution_count": 18,
   "outputs": [
    {
     "name": "stdout",
     "output_type": "stream",
     "text": [
      "Downloading data from https://storage.googleapis.com/tensorflow/keras-applications/mobilenet/mobilenet_1_0_224_tf_no_top.h5\n",
      "17225924/17225924 [==============================] - 20s 1us/step\n"
     ]
    }
   ],
   "source": [
    "base_model = MobileNet(input_shape=(224,224,3), include_top=False)"
   ],
   "metadata": {
    "collapsed": false
   }
  },
  {
   "cell_type": "code",
   "execution_count": 50,
   "metadata": {},
   "outputs": [],
   "source": [
    "# Freeze the weights of the first layers of the base model\n",
    "for layer in base_model.layers:\n",
    "    layer.trainable = False"
   ]
  },
  {
   "cell_type": "code",
   "execution_count": 51,
   "outputs": [],
   "source": [
    "# Add a new output layer for multiclass classification on top\n",
    "X = Flatten()(base_model.output)\n",
    "X = Dense(units=4, activation='softmax')(X)"
   ],
   "metadata": {
    "collapsed": false
   }
  },
  {
   "cell_type": "code",
   "execution_count": 52,
   "outputs": [],
   "source": [
    "# Create the new model with the modified layers\n",
    "model = Model(inputs=base_model.input, outputs=X)"
   ],
   "metadata": {
    "collapsed": false
   }
  },
  {
   "cell_type": "code",
   "execution_count": 53,
   "outputs": [
    {
     "name": "stdout",
     "output_type": "stream",
     "text": [
      "Model: \"model_7\"\n",
      "_________________________________________________________________\n",
      " Layer (type)                Output Shape              Param #   \n",
      "=================================================================\n",
      " input_1 (InputLayer)        [(None, 224, 224, 3)]     0         \n",
      "                                                                 \n",
      " conv1 (Conv2D)              (None, 112, 112, 32)      864       \n",
      "                                                                 \n",
      " conv1_bn (BatchNormalizatio  (None, 112, 112, 32)     128       \n",
      " n)                                                              \n",
      "                                                                 \n",
      " conv1_relu (ReLU)           (None, 112, 112, 32)      0         \n",
      "                                                                 \n",
      " conv_dw_1 (DepthwiseConv2D)  (None, 112, 112, 32)     288       \n",
      "                                                                 \n",
      " conv_dw_1_bn (BatchNormaliz  (None, 112, 112, 32)     128       \n",
      " ation)                                                          \n",
      "                                                                 \n",
      " conv_dw_1_relu (ReLU)       (None, 112, 112, 32)      0         \n",
      "                                                                 \n",
      " conv_pw_1 (Conv2D)          (None, 112, 112, 64)      2048      \n",
      "                                                                 \n",
      " conv_pw_1_bn (BatchNormaliz  (None, 112, 112, 64)     256       \n",
      " ation)                                                          \n",
      "                                                                 \n",
      " conv_pw_1_relu (ReLU)       (None, 112, 112, 64)      0         \n",
      "                                                                 \n",
      " conv_pad_2 (ZeroPadding2D)  (None, 113, 113, 64)      0         \n",
      "                                                                 \n",
      " conv_dw_2 (DepthwiseConv2D)  (None, 56, 56, 64)       576       \n",
      "                                                                 \n",
      " conv_dw_2_bn (BatchNormaliz  (None, 56, 56, 64)       256       \n",
      " ation)                                                          \n",
      "                                                                 \n",
      " conv_dw_2_relu (ReLU)       (None, 56, 56, 64)        0         \n",
      "                                                                 \n",
      " conv_pw_2 (Conv2D)          (None, 56, 56, 128)       8192      \n",
      "                                                                 \n",
      " conv_pw_2_bn (BatchNormaliz  (None, 56, 56, 128)      512       \n",
      " ation)                                                          \n",
      "                                                                 \n",
      " conv_pw_2_relu (ReLU)       (None, 56, 56, 128)       0         \n",
      "                                                                 \n",
      " conv_dw_3 (DepthwiseConv2D)  (None, 56, 56, 128)      1152      \n",
      "                                                                 \n",
      " conv_dw_3_bn (BatchNormaliz  (None, 56, 56, 128)      512       \n",
      " ation)                                                          \n",
      "                                                                 \n",
      " conv_dw_3_relu (ReLU)       (None, 56, 56, 128)       0         \n",
      "                                                                 \n",
      " conv_pw_3 (Conv2D)          (None, 56, 56, 128)       16384     \n",
      "                                                                 \n",
      " conv_pw_3_bn (BatchNormaliz  (None, 56, 56, 128)      512       \n",
      " ation)                                                          \n",
      "                                                                 \n",
      " conv_pw_3_relu (ReLU)       (None, 56, 56, 128)       0         \n",
      "                                                                 \n",
      " conv_pad_4 (ZeroPadding2D)  (None, 57, 57, 128)       0         \n",
      "                                                                 \n",
      " conv_dw_4 (DepthwiseConv2D)  (None, 28, 28, 128)      1152      \n",
      "                                                                 \n",
      " conv_dw_4_bn (BatchNormaliz  (None, 28, 28, 128)      512       \n",
      " ation)                                                          \n",
      "                                                                 \n",
      " conv_dw_4_relu (ReLU)       (None, 28, 28, 128)       0         \n",
      "                                                                 \n",
      " conv_pw_4 (Conv2D)          (None, 28, 28, 256)       32768     \n",
      "                                                                 \n",
      " conv_pw_4_bn (BatchNormaliz  (None, 28, 28, 256)      1024      \n",
      " ation)                                                          \n",
      "                                                                 \n",
      " conv_pw_4_relu (ReLU)       (None, 28, 28, 256)       0         \n",
      "                                                                 \n",
      " conv_dw_5 (DepthwiseConv2D)  (None, 28, 28, 256)      2304      \n",
      "                                                                 \n",
      " conv_dw_5_bn (BatchNormaliz  (None, 28, 28, 256)      1024      \n",
      " ation)                                                          \n",
      "                                                                 \n",
      " conv_dw_5_relu (ReLU)       (None, 28, 28, 256)       0         \n",
      "                                                                 \n",
      " conv_pw_5 (Conv2D)          (None, 28, 28, 256)       65536     \n",
      "                                                                 \n",
      " conv_pw_5_bn (BatchNormaliz  (None, 28, 28, 256)      1024      \n",
      " ation)                                                          \n",
      "                                                                 \n",
      " conv_pw_5_relu (ReLU)       (None, 28, 28, 256)       0         \n",
      "                                                                 \n",
      " conv_pad_6 (ZeroPadding2D)  (None, 29, 29, 256)       0         \n",
      "                                                                 \n",
      " conv_dw_6 (DepthwiseConv2D)  (None, 14, 14, 256)      2304      \n",
      "                                                                 \n",
      " conv_dw_6_bn (BatchNormaliz  (None, 14, 14, 256)      1024      \n",
      " ation)                                                          \n",
      "                                                                 \n",
      " conv_dw_6_relu (ReLU)       (None, 14, 14, 256)       0         \n",
      "                                                                 \n",
      " conv_pw_6 (Conv2D)          (None, 14, 14, 512)       131072    \n",
      "                                                                 \n",
      " conv_pw_6_bn (BatchNormaliz  (None, 14, 14, 512)      2048      \n",
      " ation)                                                          \n",
      "                                                                 \n",
      " conv_pw_6_relu (ReLU)       (None, 14, 14, 512)       0         \n",
      "                                                                 \n",
      " conv_dw_7 (DepthwiseConv2D)  (None, 14, 14, 512)      4608      \n",
      "                                                                 \n",
      " conv_dw_7_bn (BatchNormaliz  (None, 14, 14, 512)      2048      \n",
      " ation)                                                          \n",
      "                                                                 \n",
      " conv_dw_7_relu (ReLU)       (None, 14, 14, 512)       0         \n",
      "                                                                 \n",
      " conv_pw_7 (Conv2D)          (None, 14, 14, 512)       262144    \n",
      "                                                                 \n",
      " conv_pw_7_bn (BatchNormaliz  (None, 14, 14, 512)      2048      \n",
      " ation)                                                          \n",
      "                                                                 \n",
      " conv_pw_7_relu (ReLU)       (None, 14, 14, 512)       0         \n",
      "                                                                 \n",
      " conv_dw_8 (DepthwiseConv2D)  (None, 14, 14, 512)      4608      \n",
      "                                                                 \n",
      " conv_dw_8_bn (BatchNormaliz  (None, 14, 14, 512)      2048      \n",
      " ation)                                                          \n",
      "                                                                 \n",
      " conv_dw_8_relu (ReLU)       (None, 14, 14, 512)       0         \n",
      "                                                                 \n",
      " conv_pw_8 (Conv2D)          (None, 14, 14, 512)       262144    \n",
      "                                                                 \n",
      " conv_pw_8_bn (BatchNormaliz  (None, 14, 14, 512)      2048      \n",
      " ation)                                                          \n",
      "                                                                 \n",
      " conv_pw_8_relu (ReLU)       (None, 14, 14, 512)       0         \n",
      "                                                                 \n",
      " conv_dw_9 (DepthwiseConv2D)  (None, 14, 14, 512)      4608      \n",
      "                                                                 \n",
      " conv_dw_9_bn (BatchNormaliz  (None, 14, 14, 512)      2048      \n",
      " ation)                                                          \n",
      "                                                                 \n",
      " conv_dw_9_relu (ReLU)       (None, 14, 14, 512)       0         \n",
      "                                                                 \n",
      " conv_pw_9 (Conv2D)          (None, 14, 14, 512)       262144    \n",
      "                                                                 \n",
      " conv_pw_9_bn (BatchNormaliz  (None, 14, 14, 512)      2048      \n",
      " ation)                                                          \n",
      "                                                                 \n",
      " conv_pw_9_relu (ReLU)       (None, 14, 14, 512)       0         \n",
      "                                                                 \n",
      " conv_dw_10 (DepthwiseConv2D  (None, 14, 14, 512)      4608      \n",
      " )                                                               \n",
      "                                                                 \n",
      " conv_dw_10_bn (BatchNormali  (None, 14, 14, 512)      2048      \n",
      " zation)                                                         \n",
      "                                                                 \n",
      " conv_dw_10_relu (ReLU)      (None, 14, 14, 512)       0         \n",
      "                                                                 \n",
      " conv_pw_10 (Conv2D)         (None, 14, 14, 512)       262144    \n",
      "                                                                 \n",
      " conv_pw_10_bn (BatchNormali  (None, 14, 14, 512)      2048      \n",
      " zation)                                                         \n",
      "                                                                 \n",
      " conv_pw_10_relu (ReLU)      (None, 14, 14, 512)       0         \n",
      "                                                                 \n",
      " conv_dw_11 (DepthwiseConv2D  (None, 14, 14, 512)      4608      \n",
      " )                                                               \n",
      "                                                                 \n",
      " conv_dw_11_bn (BatchNormali  (None, 14, 14, 512)      2048      \n",
      " zation)                                                         \n",
      "                                                                 \n",
      " conv_dw_11_relu (ReLU)      (None, 14, 14, 512)       0         \n",
      "                                                                 \n",
      " conv_pw_11 (Conv2D)         (None, 14, 14, 512)       262144    \n",
      "                                                                 \n",
      " conv_pw_11_bn (BatchNormali  (None, 14, 14, 512)      2048      \n",
      " zation)                                                         \n",
      "                                                                 \n",
      " conv_pw_11_relu (ReLU)      (None, 14, 14, 512)       0         \n",
      "                                                                 \n",
      " conv_pad_12 (ZeroPadding2D)  (None, 15, 15, 512)      0         \n",
      "                                                                 \n",
      " conv_dw_12 (DepthwiseConv2D  (None, 7, 7, 512)        4608      \n",
      " )                                                               \n",
      "                                                                 \n",
      " conv_dw_12_bn (BatchNormali  (None, 7, 7, 512)        2048      \n",
      " zation)                                                         \n",
      "                                                                 \n",
      " conv_dw_12_relu (ReLU)      (None, 7, 7, 512)         0         \n",
      "                                                                 \n",
      " conv_pw_12 (Conv2D)         (None, 7, 7, 1024)        524288    \n",
      "                                                                 \n",
      " conv_pw_12_bn (BatchNormali  (None, 7, 7, 1024)       4096      \n",
      " zation)                                                         \n",
      "                                                                 \n",
      " conv_pw_12_relu (ReLU)      (None, 7, 7, 1024)        0         \n",
      "                                                                 \n",
      " conv_dw_13 (DepthwiseConv2D  (None, 7, 7, 1024)       9216      \n",
      " )                                                               \n",
      "                                                                 \n",
      " conv_dw_13_bn (BatchNormali  (None, 7, 7, 1024)       4096      \n",
      " zation)                                                         \n",
      "                                                                 \n",
      " conv_dw_13_relu (ReLU)      (None, 7, 7, 1024)        0         \n",
      "                                                                 \n",
      " conv_pw_13 (Conv2D)         (None, 7, 7, 1024)        1048576   \n",
      "                                                                 \n",
      " conv_pw_13_bn (BatchNormali  (None, 7, 7, 1024)       4096      \n",
      " zation)                                                         \n",
      "                                                                 \n",
      " conv_pw_13_relu (ReLU)      (None, 7, 7, 1024)        0         \n",
      "                                                                 \n",
      " flatten_9 (Flatten)         (None, 50176)             0         \n",
      "                                                                 \n",
      " dense_9 (Dense)             (None, 4)                 200708    \n",
      "                                                                 \n",
      "=================================================================\n",
      "Total params: 3,429,572\n",
      "Trainable params: 200,708\n",
      "Non-trainable params: 3,228,864\n",
      "_________________________________________________________________\n"
     ]
    }
   ],
   "source": [
    "model.summary()"
   ],
   "metadata": {
    "collapsed": false
   }
  },
  {
   "cell_type": "code",
   "execution_count": 67,
   "outputs": [],
   "source": [
    "model.compile(optimizer='rmsprop', loss=keras.losses.categorical_crossentropy, metrics=['accuracy'])"
   ],
   "metadata": {
    "collapsed": false
   }
  },
  {
   "cell_type": "markdown",
   "metadata": {},
   "source": [
    "### Adding Early stopping and Model Checkpoint"
   ]
  },
  {
   "cell_type": "code",
   "execution_count": 68,
   "metadata": {},
   "outputs": [],
   "source": [
    "from keras.callbacks import ModelCheckpoint, EarlyStopping"
   ]
  },
  {
   "cell_type": "code",
   "execution_count": 79,
   "metadata": {},
   "outputs": [],
   "source": [
    "#early stopping\n",
    "es = EarlyStopping(monitor=\"accuracy\", min_delta=0.01, patience=6, verbose=1, mode='auto', restore_best_weights=True)\n",
    "\n",
    "# model checkpoint\n",
    "mc = ModelCheckpoint(monitor=\"accuracy\", filepath=\"models/transfer_learning/best_model_MobileNet2.h5\", save_best_only=True, verbose=1, mode='auto')\n",
    "\n",
    "cd = [es, mc]"
   ]
  },
  {
   "cell_type": "markdown",
   "metadata": {},
   "source": [
    "# Model Training"
   ]
  },
  {
   "cell_type": "code",
   "execution_count": 80,
   "metadata": {},
   "outputs": [
    {
     "name": "stdout",
     "output_type": "stream",
     "text": [
      "Epoch 1/30\n",
      "133/133 [==============================] - ETA: 0s - loss: 1.9805 - accuracy: 0.8724\n",
      "Epoch 1: accuracy improved from -inf to 0.87243, saving model to models/transfer_learning\\best_model_MobileNet2.h5\n",
      "133/133 [==============================] - 136s 1s/step - loss: 1.9805 - accuracy: 0.8724 - val_loss: 8.2230 - val_accuracy: 0.6935\n",
      "Epoch 2/30\n",
      "133/133 [==============================] - ETA: 0s - loss: 1.6755 - accuracy: 0.8842\n",
      "Epoch 2: accuracy improved from 0.87243 to 0.88424, saving model to models/transfer_learning\\best_model_MobileNet2.h5\n",
      "133/133 [==============================] - 133s 1000ms/step - loss: 1.6755 - accuracy: 0.8842 - val_loss: 8.1963 - val_accuracy: 0.7016\n",
      "Epoch 3/30\n",
      "133/133 [==============================] - ETA: 0s - loss: 1.5703 - accuracy: 0.8859\n",
      "Epoch 3: accuracy improved from 0.88424 to 0.88590, saving model to models/transfer_learning\\best_model_MobileNet2.h5\n",
      "133/133 [==============================] - 135s 1s/step - loss: 1.5703 - accuracy: 0.8859 - val_loss: 10.1745 - val_accuracy: 0.6371\n",
      "Epoch 4/30\n",
      "133/133 [==============================] - ETA: 0s - loss: 1.4916 - accuracy: 0.8984\n",
      "Epoch 4: accuracy improved from 0.88590 to 0.89842, saving model to models/transfer_learning\\best_model_MobileNet2.h5\n",
      "133/133 [==============================] - 143s 1s/step - loss: 1.4916 - accuracy: 0.8984 - val_loss: 8.9334 - val_accuracy: 0.6452\n",
      "Epoch 5/30\n",
      "133/133 [==============================] - ETA: 0s - loss: 1.4793 - accuracy: 0.8982\n",
      "Epoch 5: accuracy did not improve from 0.89842\n",
      "133/133 [==============================] - 142s 1s/step - loss: 1.4793 - accuracy: 0.8982 - val_loss: 9.4661 - val_accuracy: 0.6694\n",
      "Epoch 6/30\n",
      "133/133 [==============================] - ETA: 0s - loss: 1.4579 - accuracy: 0.9008\n",
      "Epoch 6: accuracy improved from 0.89842 to 0.90078, saving model to models/transfer_learning\\best_model_MobileNet2.h5\n",
      "133/133 [==============================] - 144s 1s/step - loss: 1.4579 - accuracy: 0.9008 - val_loss: 8.9367 - val_accuracy: 0.6613\n",
      "Epoch 7/30\n",
      "133/133 [==============================] - ETA: 0s - loss: 1.2220 - accuracy: 0.9088\n",
      "Epoch 7: accuracy improved from 0.90078 to 0.90881, saving model to models/transfer_learning\\best_model_MobileNet2.h5\n",
      "133/133 [==============================] - 132s 991ms/step - loss: 1.2220 - accuracy: 0.9088 - val_loss: 9.8389 - val_accuracy: 0.6129\n",
      "Epoch 8/30\n",
      "133/133 [==============================] - ETA: 0s - loss: 1.3390 - accuracy: 0.9072\n",
      "Epoch 8: accuracy did not improve from 0.90881\n",
      "133/133 [==============================] - 136s 1s/step - loss: 1.3390 - accuracy: 0.9072 - val_loss: 9.3040 - val_accuracy: 0.6048\n",
      "Epoch 9/30\n",
      "133/133 [==============================] - ETA: 0s - loss: 1.4299 - accuracy: 0.9081\n",
      "Epoch 9: accuracy did not improve from 0.90881\n",
      "133/133 [==============================] - 137s 1s/step - loss: 1.4299 - accuracy: 0.9081 - val_loss: 9.3014 - val_accuracy: 0.6855\n",
      "Epoch 10/30\n",
      "133/133 [==============================] - ETA: 0s - loss: 1.3934 - accuracy: 0.9043\n",
      "Epoch 10: accuracy did not improve from 0.90881\n",
      "133/133 [==============================] - 146s 1s/step - loss: 1.3934 - accuracy: 0.9043 - val_loss: 10.6862 - val_accuracy: 0.6532\n",
      "Epoch 11/30\n",
      "133/133 [==============================] - ETA: 0s - loss: 1.3903 - accuracy: 0.9069\n",
      "Epoch 11: accuracy did not improve from 0.90881\n",
      "133/133 [==============================] - 144s 1s/step - loss: 1.3903 - accuracy: 0.9069 - val_loss: 9.7991 - val_accuracy: 0.6290\n",
      "Epoch 12/30\n",
      "133/133 [==============================] - ETA: 0s - loss: 1.3960 - accuracy: 0.9135\n",
      "Epoch 12: accuracy improved from 0.90881 to 0.91354, saving model to models/transfer_learning\\best_model_MobileNet2.h5\n",
      "133/133 [==============================] - 130s 977ms/step - loss: 1.3960 - accuracy: 0.9135 - val_loss: 9.2473 - val_accuracy: 0.6532\n",
      "Epoch 13/30\n",
      "133/133 [==============================] - ETA: 0s - loss: 1.2219 - accuracy: 0.9168Restoring model weights from the end of the best epoch: 7.\n",
      "\n",
      "Epoch 13: accuracy improved from 0.91354 to 0.91684, saving model to models/transfer_learning\\best_model_MobileNet2.h5\n",
      "133/133 [==============================] - 130s 979ms/step - loss: 1.2219 - accuracy: 0.9168 - val_loss: 8.8980 - val_accuracy: 0.6371\n",
      "Epoch 13: early stopping\n"
     ]
    }
   ],
   "source": [
    "hs = model.fit(train_images,\n",
    "               epochs=30,\n",
    "               verbose=1,\n",
    "               validation_data=validation_images,\n",
    "               callbacks=cd)"
   ]
  },
  {
   "cell_type": "code",
   "execution_count": 81,
   "metadata": {},
   "outputs": [
    {
     "data": {
      "text/plain": "dict_keys(['loss', 'accuracy', 'val_loss', 'val_accuracy'])"
     },
     "execution_count": 81,
     "metadata": {},
     "output_type": "execute_result"
    }
   ],
   "source": [
    "h = hs.history\n",
    "h.keys()"
   ]
  },
  {
   "cell_type": "code",
   "execution_count": 82,
   "metadata": {},
   "outputs": [
    {
     "data": {
      "text/plain": "<function matplotlib.pyplot.show(close=None, block=None)>"
     },
     "execution_count": 82,
     "metadata": {},
     "output_type": "execute_result"
    },
    {
     "data": {
      "text/plain": "<Figure size 640x480 with 1 Axes>",
      "image/png": "[encoded data removed]"
     },
     "metadata": {},
     "output_type": "display_data"
    }
   ],
   "source": [
    "plt.plot(h['accuracy'])\n",
    "plt.plot(h['val_accuracy'], c=\"red\")\n",
    "plt.title('Accuracy')\n",
    "plt.show"
   ]
  },
  {
   "cell_type": "code",
   "execution_count": 83,
   "metadata": {},
   "outputs": [
    {
     "data": {
      "text/plain": "<function matplotlib.pyplot.show(close=None, block=None)>"
     },
     "execution_count": 83,
     "metadata": {},
     "output_type": "execute_result"
    },
    {
     "data": {
      "text/plain": "<Figure size 640x480 with 1 Axes>",
      "image/png": "[encoded data removed]"
     },
     "metadata": {},
     "output_type": "display_data"
    }
   ],
   "source": [
    "plt.plot(h['loss'])\n",
    "plt.plot(h['val_loss'], c=\"red\")\n",
    "plt.title('Loss')\n",
    "plt.show"
   ]
  },
  {
   "cell_type": "markdown",
   "source": [
    "# Model Accuracy"
   ],
   "metadata": {
    "collapsed": false
   }
  },
  {
   "cell_type": "code",
   "execution_count": 84,
   "outputs": [],
   "source": [
    "from keras.models import load_model\n",
    "\n",
    "model = load_model('models/transfer_learning/best_model_MobileNet2.h5')"
   ],
   "metadata": {
    "collapsed": false
   }
  },
  {
   "cell_type": "code",
   "execution_count": 85,
   "outputs": [
    {
     "name": "stdout",
     "output_type": "stream",
     "text": [
      "4/4 [==============================] - 6s 1s/step - loss: 12.6892 - accuracy: 0.5565\n",
      "the accuracy of the model is 55.645161867141724 %\n"
     ]
    }
   ],
   "source": [
    "acc = model.evaluate(test_images)[1]\n",
    "print(f\"the accuracy of the model is {acc*100} %\")"
   ],
   "metadata": {
    "collapsed": false
   }
  }
 ],
 "metadata": {
  "kernelspec": {
   "display_name": "Python 3 (ipykernel)",
   "language": "python",
   "name": "python3"
  },
  "language_info": {
   "codemirror_mode": {
    "name": "ipython",
    "version": 3
   },
   "file_extension": ".py",
   "mimetype": "text/x-python",
   "name": "python",
   "nbconvert_exporter": "python",
   "pygments_lexer": "ipython3",
   "version": "3.10.7"
  }
 },
 "nbformat": 4,
 "nbformat_minor": 1
}
