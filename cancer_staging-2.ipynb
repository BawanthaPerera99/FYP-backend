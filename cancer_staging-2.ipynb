{
 "cells": [
  {
   "cell_type": "code",
   "execution_count": 1,
   "metadata": {
    "collapsed": true
   },
   "outputs": [],
   "source": [
    "import numpy as np\n",
    "import matplotlib.pyplot as plt\n",
    "import os\n",
    "import math\n",
    "import shutil\n",
    "from keras_preprocessing.image import ImageDataGenerator\n",
    "from PIL import Image\n",
    "import cv2"
   ]
  },
  {
   "cell_type": "code",
   "execution_count": 2,
   "metadata": {},
   "outputs": [
    {
     "data": {
      "text/plain": "['Moderately-differentiate',\n 'Normal',\n 'Poorly-differentiate',\n 'Well-differentiate']"
     },
     "execution_count": 2,
     "metadata": {},
     "output_type": "execute_result"
    }
   ],
   "source": [
    "ROOT_DIR = \"data\"\n",
    "os.listdir(ROOT_DIR)"
   ]
  },
  {
   "cell_type": "code",
   "execution_count": 39,
   "metadata": {},
   "outputs": [
    {
     "data": {
      "text/plain": "4"
     },
     "execution_count": 39,
     "metadata": {},
     "output_type": "execute_result"
    }
   ],
   "source": [
    "len(os.listdir(ROOT_DIR))"
   ]
  },
  {
   "cell_type": "code",
   "execution_count": 40,
   "metadata": {},
   "outputs": [
    {
     "data": {
      "text/plain": "dict_items([('Moderately-differentiate', 180), ('Normal', 290), ('Poorly-differentiate', 261), ('Well-differentiate', 238)])"
     },
     "execution_count": 40,
     "metadata": {},
     "output_type": "execute_result"
    }
   ],
   "source": [
    "# count the number of images in each class\n",
    "number_of_images = {}\n",
    "\n",
    "for image_class in os.listdir(ROOT_DIR):\n",
    "    number_of_images[image_class] = len(os.listdir(os.path.join(ROOT_DIR, image_class)))\n",
    "\n",
    "number_of_images.items()"
   ]
  },
  {
   "cell_type": "code",
   "execution_count": 41,
   "metadata": {},
   "outputs": [],
   "source": [
    "# Creating the train, validation and test folders\n",
    "def dataFolder(p, split):\n",
    "    if not os.path.exists(\"./\" + p):\n",
    "        os.mkdir(\"./\" + p)\n",
    "\n",
    "        for imageClass in os.listdir(ROOT_DIR):\n",
    "            os.makedirs(\"./\" + p + \"/\" + imageClass)\n",
    "            for img in np.random.choice(a=os.listdir(os.path.join(ROOT_DIR, imageClass)),  #selecting images randomly\n",
    "                                        size=(math.floor(split * number_of_images[imageClass]) - 5), replace=False):\n",
    "                o = os.path.join(ROOT_DIR, imageClass, img)  #path\n",
    "                d = os.path.join(\"./\" + p, imageClass)\n",
    "                shutil.copy(o, d)\n",
    "                os.remove(o)\n",
    "    else:\n",
    "        print(\"the folder exist\")"
   ]
  },
  {
   "cell_type": "code",
   "execution_count": 47,
   "metadata": {},
   "outputs": [
    {
     "name": "stdout",
     "output_type": "stream",
     "text": [
      "the folder exist\n"
     ]
    }
   ],
   "source": [
    "dataFolder(\"train\", 0.7)"
   ]
  },
  {
   "cell_type": "code",
   "execution_count": 48,
   "metadata": {},
   "outputs": [
    {
     "name": "stdout",
     "output_type": "stream",
     "text": [
      "the folder exist\n"
     ]
    }
   ],
   "source": [
    "dataFolder(\"val\", 0.15)"
   ]
  },
  {
   "cell_type": "code",
   "execution_count": 49,
   "metadata": {},
   "outputs": [
    {
     "name": "stdout",
     "output_type": "stream",
     "text": [
      "the folder exist\n"
     ]
    }
   ],
   "source": [
    "dataFolder(\"test\", 0.15)"
   ]
  },
  {
   "cell_type": "markdown",
   "metadata": {},
   "source": []
  },
  {
   "cell_type": "code",
   "execution_count": 57,
   "metadata": {},
   "outputs": [
    {
     "data": {
      "text/plain": "dict_items([('Moderately-differentiate', 120), ('Normal', 198), ('Poorly-differentiate', 177), ('Well-differentiate', 161)])"
     },
     "execution_count": 57,
     "metadata": {},
     "output_type": "execute_result"
    }
   ],
   "source": [
    "# count the number of images in each class\n",
    "number_of_images = {}\n",
    "\n",
    "for image_class in os.listdir('train'):\n",
    "    number_of_images[image_class] = len(os.listdir(os.path.join('train', image_class)))\n",
    "\n",
    "number_of_images.items()"
   ]
  },
  {
   "cell_type": "markdown",
   "metadata": {},
   "source": [
    "## Data Augmentation"
   ]
  },
  {
   "cell_type": "code",
   "execution_count": 59,
   "metadata": {},
   "outputs": [],
   "source": [
    "datagen = ImageDataGenerator(rotation_range=45, width_shift_range=0.2, height_shift_range=0.2,\n",
    "                             shear_range=0.2, zoom_range=0.2, horizontal_flip=True, fill_mode='reflect')"
   ]
  },
  {
   "cell_type": "code",
   "execution_count": 60,
   "metadata": {},
   "outputs": [],
   "source": [
    "def dataAugmentation(image_folder):\n",
    "    dataset = []\n",
    "\n",
    "    my_images = os.listdir(image_folder)\n",
    "    for i, image_name in enumerate(my_images):\n",
    "        image = cv2.imread(image_folder + image_name)\n",
    "        image = cv2.cvtColor(image, cv2.COLOR_BGR2RGB)\n",
    "        image = Image.fromarray(image, 'RGB')\n",
    "        image = image.resize((224, 224))\n",
    "        dataset.append(np.array(image))\n",
    "\n",
    "    x = np.array(dataset)\n",
    "\n",
    "    i = 0\n",
    "    for _ in datagen.flow(x, batch_size=32, save_to_dir=image_folder,\n",
    "                          save_prefix='aug', save_format='jpg', shuffle=True):\n",
    "        i += 1\n",
    "        if i > 30:\n",
    "            break"
   ]
  },
  {
   "cell_type": "code",
   "execution_count": 61,
   "metadata": {},
   "outputs": [],
   "source": [
    "dataAugmentation('train/Normal/')"
   ]
  },
  {
   "cell_type": "code",
   "execution_count": 62,
   "metadata": {},
   "outputs": [],
   "source": [
    "dataAugmentation('train/Well-differentiate/')"
   ]
  },
  {
   "cell_type": "code",
   "execution_count": 63,
   "metadata": {},
   "outputs": [],
   "source": [
    "dataAugmentation('train/Poorly-differentiate/')"
   ]
  },
  {
   "cell_type": "code",
   "execution_count": 64,
   "metadata": {},
   "outputs": [],
   "source": [
    "dataAugmentation('train/Moderately-differentiate/')"
   ]
  },
  {
   "cell_type": "markdown",
   "source": [
    "## Preparing the data"
   ],
   "metadata": {
    "collapsed": false
   }
  },
  {
   "cell_type": "code",
   "execution_count": 18,
   "outputs": [
    {
     "name": "stdout",
     "output_type": "stream",
     "text": [
      "Found 4233 images belonging to 4 classes.\n"
     ]
    }
   ],
   "source": [
    "train_datagen = ImageDataGenerator(zoom_range=0.2, shear_range=0.2, rescale=1 / 255, horizontal_flip=True,)\n",
    "train_images = train_datagen.flow_from_directory(directory='train', target_size=(224, 224),\n",
    "                                                 batch_size=32, class_mode='categorical')"
   ],
   "metadata": {
    "collapsed": false
   }
  },
  {
   "cell_type": "code",
   "execution_count": 19,
   "outputs": [
    {
     "name": "stdout",
     "output_type": "stream",
     "text": [
      "Found 124 images belonging to 4 classes.\n"
     ]
    }
   ],
   "source": [
    "validation_datagen = ImageDataGenerator(rescale=1 / 255)\n",
    "validation_images = validation_datagen.flow_from_directory(directory='val', target_size=(224, 224),\n",
    "                                                           batch_size=32, class_mode='categorical')"
   ],
   "metadata": {
    "collapsed": false
   }
  },
  {
   "cell_type": "code",
   "execution_count": 20,
   "outputs": [
    {
     "name": "stdout",
     "output_type": "stream",
     "text": [
      "Found 124 images belonging to 4 classes.\n"
     ]
    }
   ],
   "source": [
    "test_datagen = ImageDataGenerator(rescale=1 / 255)\n",
    "test_images = test_datagen.flow_from_directory(directory='test', target_size=(224, 224),\n",
    "                                               batch_size=32, class_mode='categorical')"
   ],
   "metadata": {
    "collapsed": false
   }
  },
  {
   "cell_type": "markdown",
   "metadata": {},
   "source": [
    "# Model Building"
   ]
  },
  {
   "cell_type": "code",
   "execution_count": 12,
   "metadata": {},
   "outputs": [],
   "source": [
    "from keras.layers import Conv2D, MaxPooling2D, Dropout, Flatten, Dense, BatchNormalization, Activation\n",
    "from keras.models import Sequential\n",
    "from keras.optimizers import Adam"
   ]
  },
  {
   "cell_type": "code",
   "execution_count": 13,
   "metadata": {},
   "outputs": [
    {
     "name": "stdout",
     "output_type": "stream",
     "text": [
      "Model: \"sequential\"\n",
      "_________________________________________________________________\n",
      " Layer (type)                Output Shape              Param #   \n",
      "=================================================================\n",
      " conv2d (Conv2D)             (None, 222, 222, 32)      896       \n",
      "                                                                 \n",
      " batch_normalization (BatchN  (None, 222, 222, 32)     128       \n",
      " ormalization)                                                   \n",
      "                                                                 \n",
      " activation (Activation)     (None, 222, 222, 32)      0         \n",
      "                                                                 \n",
      " max_pooling2d (MaxPooling2D  (None, 111, 111, 32)     0         \n",
      " )                                                               \n",
      "                                                                 \n",
      " conv2d_1 (Conv2D)           (None, 109, 109, 64)      18496     \n",
      "                                                                 \n",
      " batch_normalization_1 (Batc  (None, 109, 109, 64)     256       \n",
      " hNormalization)                                                 \n",
      "                                                                 \n",
      " activation_1 (Activation)   (None, 109, 109, 64)      0         \n",
      "                                                                 \n",
      " max_pooling2d_1 (MaxPooling  (None, 54, 54, 64)       0         \n",
      " 2D)                                                             \n",
      "                                                                 \n",
      " conv2d_2 (Conv2D)           (None, 52, 52, 128)       73856     \n",
      "                                                                 \n",
      " batch_normalization_2 (Batc  (None, 52, 52, 128)      512       \n",
      " hNormalization)                                                 \n",
      "                                                                 \n",
      " activation_2 (Activation)   (None, 52, 52, 128)       0         \n",
      "                                                                 \n",
      " max_pooling2d_2 (MaxPooling  (None, 26, 26, 128)      0         \n",
      " 2D)                                                             \n",
      "                                                                 \n",
      " dropout (Dropout)           (None, 26, 26, 128)       0         \n",
      "                                                                 \n",
      " flatten (Flatten)           (None, 86528)             0         \n",
      "                                                                 \n",
      " dense (Dense)               (None, 256)               22151424  \n",
      "                                                                 \n",
      " batch_normalization_3 (Batc  (None, 256)              1024      \n",
      " hNormalization)                                                 \n",
      "                                                                 \n",
      " dropout_1 (Dropout)         (None, 256)               0         \n",
      "                                                                 \n",
      " dense_1 (Dense)             (None, 128)               32896     \n",
      "                                                                 \n",
      " batch_normalization_4 (Batc  (None, 128)              512       \n",
      " hNormalization)                                                 \n",
      "                                                                 \n",
      " dropout_2 (Dropout)         (None, 128)               0         \n",
      "                                                                 \n",
      " dense_2 (Dense)             (None, 4)                 516       \n",
      "                                                                 \n",
      "=================================================================\n",
      "Total params: 22,280,516\n",
      "Trainable params: 22,279,300\n",
      "Non-trainable params: 1,216\n",
      "_________________________________________________________________\n"
     ]
    }
   ],
   "source": [
    "# CNN model\n",
    "learning_rate = 0.001\n",
    "dropout_rate = 0.3\n",
    "epochs = 30\n",
    "\n",
    "optimizer = Adam(learning_rate=learning_rate)\n",
    "\n",
    "model = Sequential()\n",
    "\n",
    "model.add(Conv2D(filters=32, kernel_size=(3, 3), input_shape=(224, 224, 3)))\n",
    "model.add(BatchNormalization())\n",
    "model.add(Activation('relu'))\n",
    "model.add(MaxPooling2D(pool_size=(2, 2)))\n",
    "\n",
    "model.add(Conv2D(filters=64, kernel_size=(3, 3)))\n",
    "model.add(BatchNormalization())\n",
    "model.add(Activation('relu'))\n",
    "model.add(MaxPooling2D(pool_size=(2, 2)))\n",
    "\n",
    "model.add(Conv2D(filters=128, kernel_size=(3, 3)))\n",
    "model.add(BatchNormalization())\n",
    "model.add(Activation('relu'))\n",
    "model.add(MaxPooling2D(pool_size=(2, 2)))\n",
    "\n",
    "model.add(Dropout(rate=dropout_rate))\n",
    "\n",
    "model.add(Flatten())\n",
    "\n",
    "model.add(Dense(units=256, activation='relu'))\n",
    "model.add(BatchNormalization())\n",
    "model.add(Dropout(rate=dropout_rate))\n",
    "\n",
    "model.add(Dense(units=128, activation='relu'))\n",
    "model.add(BatchNormalization())\n",
    "model.add(Dropout(rate=dropout_rate))\n",
    "\n",
    "model.add(Dense(units=4, activation='softmax'))\n",
    "\n",
    "model.summary()"
   ]
  },
  {
   "cell_type": "code",
   "execution_count": 14,
   "metadata": {},
   "outputs": [],
   "source": [
    "model.compile(optimizer=optimizer, loss='categorical_crossentropy', metrics=['accuracy'])"
   ]
  },
  {
   "cell_type": "markdown",
   "metadata": {},
   "source": []
  },
  {
   "cell_type": "markdown",
   "metadata": {},
   "source": [
    "### Adding Early stopping and Model Checkpoint"
   ]
  },
  {
   "cell_type": "code",
   "execution_count": 15,
   "metadata": {},
   "outputs": [],
   "source": [
    "from keras.callbacks import ModelCheckpoint, EarlyStopping"
   ]
  },
  {
   "cell_type": "code",
   "execution_count": 29,
   "metadata": {},
   "outputs": [],
   "source": [
    "# early stopping\n",
    "es = EarlyStopping(monitor=\"val_accuracy\", min_delta=0.01, patience=6, verbose=1, mode='auto')\n",
    "\n",
    "# model checkpoint\n",
    "mc = ModelCheckpoint(monitor=\"val_accuracy\", filepath=\"./best_model_3.h5\", save_best_only=True, verbose=1, mode='auto')\n",
    "\n",
    "cd = [es, mc]"
   ]
  },
  {
   "cell_type": "markdown",
   "metadata": {},
   "source": [
    "# Model Training"
   ]
  },
  {
   "cell_type": "code",
   "execution_count": 30,
   "metadata": {},
   "outputs": [
    {
     "name": "stdout",
     "output_type": "stream",
     "text": [
      "Epoch 1/30\n",
      "133/133 [==============================] - ETA: 0s - loss: 0.8063 - accuracy: 0.6636\n",
      "Epoch 1: val_accuracy improved from -inf to 0.64516, saving model to .\\best_model_3.h5\n",
      "133/133 [==============================] - 342s 3s/step - loss: 0.8063 - accuracy: 0.6636 - val_loss: 1.1674 - val_accuracy: 0.6452\n",
      "Epoch 2/30\n",
      "133/133 [==============================] - ETA: 0s - loss: 0.7660 - accuracy: 0.6766\n",
      "Epoch 2: val_accuracy did not improve from 0.64516\n",
      "133/133 [==============================] - 320s 2s/step - loss: 0.7660 - accuracy: 0.6766 - val_loss: 1.5447 - val_accuracy: 0.5161\n",
      "Epoch 3/30\n",
      "133/133 [==============================] - ETA: 0s - loss: 0.7861 - accuracy: 0.6671\n",
      "Epoch 3: val_accuracy did not improve from 0.64516\n",
      "133/133 [==============================] - 322s 2s/step - loss: 0.7861 - accuracy: 0.6671 - val_loss: 1.9492 - val_accuracy: 0.5000\n",
      "Epoch 4/30\n",
      "133/133 [==============================] - ETA: 0s - loss: 0.7402 - accuracy: 0.6832\n",
      "Epoch 4: val_accuracy did not improve from 0.64516\n",
      "133/133 [==============================] - 320s 2s/step - loss: 0.7402 - accuracy: 0.6832 - val_loss: 1.4247 - val_accuracy: 0.5081\n",
      "Epoch 5/30\n",
      "133/133 [==============================] - ETA: 0s - loss: 0.7494 - accuracy: 0.6919\n",
      "Epoch 5: val_accuracy did not improve from 0.64516\n",
      "133/133 [==============================] - 279s 2s/step - loss: 0.7494 - accuracy: 0.6919 - val_loss: 1.6879 - val_accuracy: 0.4274\n",
      "Epoch 6/30\n",
      "133/133 [==============================] - ETA: 0s - loss: 0.7216 - accuracy: 0.7023\n",
      "Epoch 6: val_accuracy did not improve from 0.64516\n",
      "133/133 [==============================] - 278s 2s/step - loss: 0.7216 - accuracy: 0.7023 - val_loss: 1.0410 - val_accuracy: 0.6452\n",
      "Epoch 7/30\n",
      "133/133 [==============================] - ETA: 0s - loss: 0.6951 - accuracy: 0.7205\n",
      "Epoch 7: val_accuracy did not improve from 0.64516\n",
      "133/133 [==============================] - 278s 2s/step - loss: 0.6951 - accuracy: 0.7205 - val_loss: 0.9855 - val_accuracy: 0.6452\n",
      "Epoch 7: early stopping\n"
     ]
    }
   ],
   "source": [
    "hs = model.fit(train_images,\n",
    "               epochs=epochs,\n",
    "               verbose=1,\n",
    "               validation_data=validation_images,\n",
    "               callbacks=cd)"
   ]
  },
  {
   "cell_type": "code",
   "execution_count": 31,
   "metadata": {},
   "outputs": [
    {
     "data": {
      "text/plain": "dict_keys(['loss', 'accuracy', 'val_loss', 'val_accuracy'])"
     },
     "execution_count": 31,
     "metadata": {},
     "output_type": "execute_result"
    }
   ],
   "source": [
    "h = hs.history\n",
    "h.keys()"
   ]
  },
  {
   "cell_type": "code",
   "execution_count": 32,
   "metadata": {},
   "outputs": [
    {
     "data": {
      "text/plain": "<function matplotlib.pyplot.show(close=None, block=None)>"
     },
     "execution_count": 32,
     "metadata": {},
     "output_type": "execute_result"
    },
    {
     "data": {
      "text/plain": "<Figure size 640x480 with 1 Axes>",
      "image/png": "[encoded data removed]"
     },
     "metadata": {},
     "output_type": "display_data"
    }
   ],
   "source": [
    "plt.plot(h['accuracy'])\n",
    "plt.plot(h['val_accuracy'], c=\"red\")\n",
    "plt.title('Accuracy')\n",
    "plt.show"
   ]
  },
  {
   "cell_type": "code",
   "execution_count": 33,
   "metadata": {},
   "outputs": [
    {
     "data": {
      "text/plain": "<function matplotlib.pyplot.show(close=None, block=None)>"
     },
     "execution_count": 33,
     "metadata": {},
     "output_type": "execute_result"
    },
    {
     "data": {
      "text/plain": "<Figure size 640x480 with 1 Axes>",
      "image/png": "[encoded data removed]"
     },
     "metadata": {},
     "output_type": "display_data"
    }
   ],
   "source": [
    "plt.plot(h['loss'])\n",
    "plt.plot(h['val_loss'], c=\"red\")\n",
    "plt.title('Loss')\n",
    "plt.show"
   ]
  },
  {
   "cell_type": "markdown",
   "source": [
    "# Model Accuracy"
   ],
   "metadata": {
    "collapsed": false
   }
  },
  {
   "cell_type": "code",
   "execution_count": 34,
   "outputs": [],
   "source": [
    "from keras.models import load_model\n",
    "\n",
    "model = load_model('best_model_3.h5')"
   ],
   "metadata": {
    "collapsed": false
   }
  },
  {
   "cell_type": "code",
   "execution_count": 35,
   "outputs": [
    {
     "name": "stdout",
     "output_type": "stream",
     "text": [
      "4/4 [==============================] - 6s 1s/step - loss: 1.2852 - accuracy: 0.6532\n",
      "the accuracy of the model is 65.32257795333862 %\n"
     ]
    }
   ],
   "source": [
    "acc = model.evaluate(test_images)[1]\n",
    "print(f\"the accuracy of the model is {acc*100} %\")"
   ],
   "metadata": {
    "collapsed": false
   }
  }
 ],
 "metadata": {
  "kernelspec": {
   "display_name": "Python 3 (ipykernel)",
   "language": "python",
   "name": "python3"
  },
  "language_info": {
   "codemirror_mode": {
    "name": "ipython",
    "version": 3
   },
   "file_extension": ".py",
   "mimetype": "text/x-python",
   "name": "python",
   "nbconvert_exporter": "python",
   "pygments_lexer": "ipython3",
   "version": "3.10.7"
  }
 },
 "nbformat": 4,
 "nbformat_minor": 1
}
